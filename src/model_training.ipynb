{
 "cells": [
  {
   "cell_type": "code",
   "execution_count": 8,
   "metadata": {},
   "outputs": [],
   "source": [
    "import pandas as pd\n",
    "import numpy as np\n",
    "from sklearn.model_selection import GridSearchCV\n",
    "\n",
    "from sklearn.ensemble import RandomForestRegressor\n",
    "from sklearn.metrics import mean_absolute_error, mean_squared_error, r2_score\n",
    "from sklearn.model_selection import train_test_split\n",
    "import os\n"
   ]
  },
  {
   "cell_type": "code",
   "execution_count": 6,
   "metadata": {},
   "outputs": [],
   "source": [
    "preprocessed_data_dir = \"../preprocessed_data/\"\n",
    "\n",
    "datasets = [\"FD001\", \"FD002\", \"FD003\", \"FD004\"]"
   ]
  },
  {
   "cell_type": "code",
   "execution_count": 3,
   "metadata": {},
   "outputs": [],
   "source": [
    "def load_preprocessed_data(dataset):\n",
    "\n",
    "    train_data = pd.read_csv(os.path.join(preprocessed_data_dir, f\"train_{dataset}_processed.csv\"))\n",
    "    test_data = pd.read_csv(os.path.join(preprocessed_data_dir, f\"test_{dataset}_processed.csv\"))\n",
    "    return train_data, test_data"
   ]
  },
  {
   "cell_type": "code",
   "execution_count": 4,
   "metadata": {},
   "outputs": [],
   "source": [
    "def train_evaluate_model(train_data, test_data):\n",
    "    feature_columns = [col for col in train_data.columns if col not in ['unit_number', 'time_in_cycles', 'RUL', 'true_RUL']]\n",
    "    X_train = train_data[feature_columns]\n",
    "    y_train = train_data['RUL']\n",
    "\n",
    "    X_test = test_data[feature_columns]\n",
    "    y_test = test_data['true_RUL'] if 'true_RUL' in test_data.columns else test_data['RUL']\n",
    "\n",
    "    X_train_split, X_val_split, y_train_split, y_val_split = train_test_split(X_train, y_train, test_size=0.2, random_state=42)\n",
    "\n",
    "    model = RandomForestRegressor(n_estimators=100, random_state=42)\n",
    "\n",
    "    model.fit(X_train_split, y_train_split)\n",
    "\n",
    "    y_pred = model.predict(X_test)\n",
    "\n",
    "    mae = mean_absolute_error(y_test, y_pred)\n",
    "    mse = mean_squared_error(y_test, y_pred)\n",
    "    r2 = r2_score(y_test, y_pred)\n",
    "\n",
    "    print(f\"Model Evaluation Results:\")\n",
    "    print(f\"Mean Absolute Error (MAE): {mae}\")\n",
    "    print(f\"Mean Squared Error (MSE): {mse}\")\n",
    "    print(f\"R2 Score: {r2}\")\n",
    "\n",
    "    return model"
   ]
  },
  {
   "cell_type": "code",
   "execution_count": null,
   "metadata": {},
   "outputs": [],
   "source": [
    "param_grid = {\n",
    "    'n_estimators': [100, 200, 500],\n",
    "    'max_depth': [10, 20, None],\n",
    "    'min_samples_split': [2, 5, 10],\n",
    "    'min_samples_leaf': [1, 2, 4]\n",
    "}\n",
    "for dataset in datasets:\n",
    "    print(f\"Training and evaluating model for {dataset}\")\n",
    "    train_data, test_data = load_preprocessed_data(dataset)\n",
    "    feature_columns = [col for col in train_data.columns if col not in ['unit_number', 'time_in_cycles', 'RUL', 'true_RUL']]\n",
    "    X_train = train_data[feature_columns]\n",
    "    y_train = train_data['RUL']\n",
    "    grid_search = GridSearchCV(RandomForestRegressor(random_state=42), param_grid, cv=3, scoring='r2')\n",
    "    grid_search.fit(X_train, y_train)\n",
    "    print(\"Best Params:\", grid_search.best_params_)\n"
   ]
  },
  {
   "cell_type": "code",
   "execution_count": 7,
   "metadata": {},
   "outputs": [
    {
     "name": "stdout",
     "output_type": "stream",
     "text": [
      "Training and evaluating model for FD001\n",
      "Model Evaluation Results:\n",
      "Mean Absolute Error (MAE): 24.721499999999995\n",
      "Mean Squared Error (MSE): 1121.7500069999999\n",
      "R2 Score: 0.35041417892815985\n",
      "Training and evaluating model for FD002\n",
      "Model Evaluation Results:\n",
      "Mean Absolute Error (MAE): 23.323745173745174\n",
      "Mean Squared Error (MSE): 994.8573386100386\n",
      "R2 Score: 0.6560156476364296\n",
      "Training and evaluating model for FD003\n",
      "Model Evaluation Results:\n",
      "Mean Absolute Error (MAE): 31.089400000000005\n",
      "Mean Squared Error (MSE): 1892.5923500000001\n",
      "R2 Score: -0.10445553261745943\n",
      "Training and evaluating model for FD004\n",
      "Model Evaluation Results:\n",
      "Mean Absolute Error (MAE): 31.96927419354839\n",
      "Mean Squared Error (MSE): 1900.7266701612905\n",
      "R2 Score: 0.3606369344375133\n"
     ]
    }
   ],
   "source": [
    "for dataset in datasets:\n",
    "    print(f\"Training and evaluating model for {dataset}\")\n",
    "    \n",
    "    train_data, test_data = load_preprocessed_data(dataset)\n",
    "    \n",
    "    model = train_evaluate_model(train_data, test_data)\n",
    "\n",
    "    model_path = os.path.join(\"models\", f\"random_forest_{dataset}.pkl\")\n",
    "    os.makedirs(\"models\", exist_ok=True)\n",
    "    pd.to_pickle(model, model_path)\n",
    "    \n",
    "    print(f\"Model for {dataset} saved at {model_path}\\n\")"
   ]
  }
 ],
 "metadata": {
  "kernelspec": {
   "display_name": "Python 3",
   "language": "python",
   "name": "python3"
  },
  "language_info": {
   "codemirror_mode": {
    "name": "ipython",
    "version": 3
   },
   "file_extension": ".py",
   "mimetype": "text/x-python",
   "name": "python",
   "nbconvert_exporter": "python",
   "pygments_lexer": "ipython3",
   "version": "3.9.13"
  }
 },
 "nbformat": 4,
 "nbformat_minor": 2
}
